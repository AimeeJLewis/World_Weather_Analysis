{
 "cells": [
  {
   "cell_type": "code",
   "execution_count": 1,
   "id": "517e91b7",
   "metadata": {},
   "outputs": [],
   "source": [
    "# Import the random module.\n",
    "import random"
   ]
  },
  {
   "cell_type": "code",
   "execution_count": 2,
   "id": "a26cd2f5",
   "metadata": {},
   "outputs": [
    {
     "data": {
      "text/plain": [
       "54"
      ]
     },
     "execution_count": 2,
     "metadata": {},
     "output_type": "execute_result"
    }
   ],
   "source": [
    "random.randint(-90,90)"
   ]
  },
  {
   "cell_type": "code",
   "execution_count": 3,
   "id": "57833202",
   "metadata": {},
   "outputs": [
    {
     "data": {
      "text/plain": [
       "0.8376699817260737"
      ]
     },
     "execution_count": 3,
     "metadata": {},
     "output_type": "execute_result"
    }
   ],
   "source": [
    "random.random()"
   ]
  },
  {
   "cell_type": "code",
   "execution_count": 5,
   "id": "227eaef6",
   "metadata": {},
   "outputs": [
    {
     "data": {
      "text/plain": [
       "-30.610245039547017"
      ]
     },
     "execution_count": 5,
     "metadata": {},
     "output_type": "execute_result"
    }
   ],
   "source": [
    "random_number = random.randint(-90,89) + random.random()\n",
    "random_number"
   ]
  },
  {
   "cell_type": "code",
   "execution_count": 12,
   "id": "eccde010",
   "metadata": {},
   "outputs": [
    {
     "data": {
      "text/plain": [
       "[70.10987451933603,\n",
       " 32.40384928261544,\n",
       " -68.4374837154152,\n",
       " 18.931463772149456,\n",
       " 84.44541896045914,\n",
       " -88.10086601990176,\n",
       " -66.94640927647798,\n",
       " -8.734954359999517,\n",
       " 22.978102752111155,\n",
       " 42.353866855513814]"
      ]
     },
     "execution_count": 12,
     "metadata": {},
     "output_type": "execute_result"
    }
   ],
   "source": [
    "x = 1\n",
    "latitudes =[]\n",
    "while x < 11:\n",
    "    random_lat = random.randint(-90,89) + random.random()\n",
    "    latitudes.append(random_lat)\n",
    "    x += 1\n",
    "    \n",
    "latitudes"
   ]
  },
  {
   "cell_type": "code",
   "execution_count": 14,
   "id": "436ecb9f",
   "metadata": {},
   "outputs": [
    {
     "data": {
      "text/plain": [
       "-78"
      ]
     },
     "execution_count": 14,
     "metadata": {},
     "output_type": "execute_result"
    }
   ],
   "source": [
    "random.randrange(-90, 90, step=3)"
   ]
  },
  {
   "cell_type": "code",
   "execution_count": 15,
   "id": "2c18aa53",
   "metadata": {},
   "outputs": [
    {
     "data": {
      "text/plain": [
       "-17.63047312394245"
      ]
     },
     "execution_count": 15,
     "metadata": {},
     "output_type": "execute_result"
    }
   ],
   "source": [
    "random.uniform(-90,90)"
   ]
  },
  {
   "cell_type": "code",
   "execution_count": 16,
   "id": "48b409f8",
   "metadata": {},
   "outputs": [],
   "source": [
    "# Import the NumPy module.\n",
    "import numpy as np"
   ]
  },
  {
   "cell_type": "code",
   "execution_count": 17,
   "id": "f4a0f228",
   "metadata": {},
   "outputs": [
    {
     "data": {
      "text/plain": [
       "-66.6493476423689"
      ]
     },
     "execution_count": 17,
     "metadata": {},
     "output_type": "execute_result"
    }
   ],
   "source": [
    "np.random.uniform(-90.000, 90.000)"
   ]
  },
  {
   "cell_type": "code",
   "execution_count": 18,
   "id": "f82b90ce",
   "metadata": {
    "scrolled": true
   },
   "outputs": [
    {
     "data": {
      "text/plain": [
       "array([ 56.75786413,  13.23133477,  84.54073475,  10.09616692,\n",
       "        36.09904325,  75.91475933,  67.20795492,  -4.00625511,\n",
       "        15.25071728,  47.19183093, -71.30742304,  21.1842179 ,\n",
       "        -3.16539856,  78.80961748,  77.25937664,  -8.55170574,\n",
       "        28.87515363,  22.64358784,  11.57929924,  78.95486268,\n",
       "       -39.9570814 , -81.67000761,  75.15415015, -13.51342039,\n",
       "        35.42007731, -38.48662047,  19.51518588, -50.38114347,\n",
       "        11.89738654,  17.41647999,  49.36067223,  -5.67340374,\n",
       "        57.92553539,  26.00724053, -32.59332185, -12.90937046,\n",
       "        -0.8424001 ,  25.47773568,  69.88407072,  -2.26563273,\n",
       "        -6.70664222,  28.40354426,  27.94975058, -72.40121707,\n",
       "        77.18794068, -20.42561202,  12.35247323,  86.65001103,\n",
       "        79.891437  , -51.31287291])"
      ]
     },
     "execution_count": 18,
     "metadata": {},
     "output_type": "execute_result"
    }
   ],
   "source": [
    "np.random.uniform(-90.000, 90.000, size=50)"
   ]
  },
  {
   "cell_type": "code",
   "execution_count": 25,
   "id": "3ffa8849",
   "metadata": {},
   "outputs": [],
   "source": [
    "# Import timeit.\n",
    "import timeit"
   ]
  },
  {
   "cell_type": "code",
   "execution_count": 26,
   "id": "0529658e",
   "metadata": {},
   "outputs": [
    {
     "name": "stdout",
     "output_type": "stream",
     "text": [
      "12.2 µs ± 10.8 ns per loop (mean ± std. dev. of 7 runs, 100,000 loops each)\n"
     ]
    },
    {
     "data": {
      "text/plain": [
       "<function RandomState.uniform>"
      ]
     },
     "execution_count": 26,
     "metadata": {},
     "output_type": "execute_result"
    }
   ],
   "source": [
    "%timeit np.random.uniform(-90.000,90.000, size=1500)\n"
   ]
  },
  {
   "cell_type": "code",
   "execution_count": 27,
   "id": "a67db9b4",
   "metadata": {},
   "outputs": [
    {
     "name": "stdout",
     "output_type": "stream",
     "text": [
      "1.1 ms ± 8.96 µs per loop (mean ± std. dev. of 7 runs, 1,000 loops each)\n"
     ]
    }
   ],
   "source": [
    "def latitudes(size):\n",
    "    latitudes = []\n",
    "    x = 0\n",
    "    while x < (size):\n",
    "        random_lat = random.randint(-90,90) + random.random()\n",
    "        latitudes.append(random_lat)\n",
    "        x += 1\n",
    "    return latitudes\n",
    "\n",
    "# Call the function with 1500.\n",
    "%timeit latitudes(1500)"
   ]
  },
  {
   "cell_type": "code",
   "execution_count": null,
   "id": "cd52028e",
   "metadata": {},
   "outputs": [],
   "source": []
  }
 ],
 "metadata": {
  "kernelspec": {
   "display_name": "PythonData",
   "language": "python",
   "name": "pythondata"
  },
  "language_info": {
   "codemirror_mode": {
    "name": "ipython",
    "version": 3
   },
   "file_extension": ".py",
   "mimetype": "text/x-python",
   "name": "python",
   "nbconvert_exporter": "python",
   "pygments_lexer": "ipython3",
   "version": "3.9.7"
  }
 },
 "nbformat": 4,
 "nbformat_minor": 5
}
